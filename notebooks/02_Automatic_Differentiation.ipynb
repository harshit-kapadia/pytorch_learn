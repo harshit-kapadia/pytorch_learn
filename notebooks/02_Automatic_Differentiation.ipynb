{
  "nbformat": 4,
  "nbformat_minor": 0,
  "metadata": {
    "kernelspec": {
      "display_name": "Python 3",
      "language": "python",
      "name": "python3"
    },
    "language_info": {
      "codemirror_mode": {
        "name": "ipython",
        "version": 3
      },
      "file_extension": ".py",
      "mimetype": "text/x-python",
      "name": "python",
      "nbconvert_exporter": "python",
      "pygments_lexer": "ipython3",
      "version": "3.8.5"
    },
    "toc-autonumbering": true,
    "colab": {
      "name": "02 Automatic Differentiation.ipynb",
      "provenance": [],
      "collapsed_sections": []
    }
  },
  "cells": [
    {
      "cell_type": "markdown",
      "metadata": {
        "toc-hr-collapsed": true,
        "toc-nb-collapsed": true,
        "id": "Vhx70vjwzGpK"
      },
      "source": [
        "# PyTorch Basics\n",
        "- automatic derivatives with tensors\n",
        "- tensors as neural network abstractions: `torch.nn`\n",
        "- optimizers: `nn.optim`"
      ]
    },
    {
      "cell_type": "markdown",
      "metadata": {
        "id": "ucchxigjzGpZ"
      },
      "source": [
        "## Package imports"
      ]
    },
    {
      "cell_type": "code",
      "metadata": {
        "execution": {
          "iopub.execute_input": "2020-11-27T14:29:57.872710Z",
          "iopub.status.busy": "2020-11-27T14:29:57.872327Z",
          "iopub.status.idle": "2020-11-27T14:29:58.248781Z",
          "shell.execute_reply": "2020-11-27T14:29:58.248447Z"
        },
        "id": "H2FIshL-zGpa"
      },
      "source": [
        "import torch\n",
        "import torch.nn as nn\n",
        "import torch.nn.functional as F\n",
        "import torch.optim as optim\n",
        "# import torchvision"
      ],
      "execution_count": 1,
      "outputs": []
    },
    {
      "cell_type": "code",
      "metadata": {
        "execution": {
          "iopub.execute_input": "2020-11-27T14:29:58.251518Z",
          "iopub.status.busy": "2020-11-27T14:29:58.251163Z",
          "iopub.status.idle": "2020-11-27T14:29:58.371152Z",
          "shell.execute_reply": "2020-11-27T14:29:58.370772Z"
        },
        "id": "BopfB8SkzGpc"
      },
      "source": [
        "# from pprint import pprint\n",
        "\n",
        "import matplotlib.pyplot as plt\n",
        "import numpy as np\n",
        "\n",
        "# from IPython.core.debugger import set_trace"
      ],
      "execution_count": 2,
      "outputs": []
    },
    {
      "cell_type": "code",
      "metadata": {
        "execution": {
          "iopub.execute_input": "2020-11-27T14:29:58.373886Z",
          "iopub.status.busy": "2020-11-27T14:29:58.373437Z",
          "iopub.status.idle": "2020-11-27T14:29:58.376006Z",
          "shell.execute_reply": "2020-11-27T14:29:58.375601Z"
        },
        "id": "MZmfX03YzGpe"
      },
      "source": [
        "from numpy.linalg import inv\n",
        "from numpy.linalg import multi_dot as mdot"
      ],
      "execution_count": 3,
      "outputs": []
    },
    {
      "cell_type": "markdown",
      "metadata": {
        "id": "wl5_6e00zGp2"
      },
      "source": [
        "# Automatic differentiation with `autograd`\n",
        "Since `v0.4`, `Tensor` can record gradients directly if you tell it do do so, e.g. `torch.ones(3, requires_grad=True)`.\n",
        "\n",
        "Ref:\n",
        "- https://pytorch.org/docs/stable/autograd.html\n",
        "- https://pytorch.org/tutorials/beginner/blitz/autograd_tutorial.html"
      ]
    },
    {
      "cell_type": "markdown",
      "metadata": {
        "id": "qOdZ3FrpzGp3"
      },
      "source": [
        "We rarely use `torch.autograd` directly.\n",
        "Pretty much everything is part or `torch.Tensor`.\n",
        "Simply add `requires_grad=True` to the tensors you want to calculate the gradients for.\n",
        "`nn.Module` track gradients automatically."
      ]
    },
    {
      "cell_type": "code",
      "metadata": {
        "execution": {
          "iopub.execute_input": "2020-11-27T14:30:00.416379Z",
          "iopub.status.busy": "2020-11-27T14:30:00.416068Z",
          "iopub.status.idle": "2020-11-27T14:30:00.418236Z",
          "shell.execute_reply": "2020-11-27T14:30:00.417899Z"
        },
        "id": "Mgy03nn8zGp3"
      },
      "source": [
        "from torch import autograd"
      ],
      "execution_count": 4,
      "outputs": []
    },
    {
      "cell_type": "code",
      "metadata": {
        "execution": {
          "iopub.execute_input": "2020-11-27T14:30:00.420791Z",
          "iopub.status.busy": "2020-11-27T14:30:00.420372Z",
          "iopub.status.idle": "2020-11-27T14:30:00.423211Z",
          "shell.execute_reply": "2020-11-27T14:30:00.422811Z"
        },
        "id": "1O0Cyd7MzGp4",
        "colab": {
          "base_uri": "https://localhost:8080/"
        },
        "outputId": "8afb5ed9-1161-45ec-a537-d3d479b9e48a"
      },
      "source": [
        "x = torch.tensor(2.)\n",
        "x"
      ],
      "execution_count": 5,
      "outputs": [
        {
          "output_type": "execute_result",
          "data": {
            "text/plain": [
              "tensor(2.)"
            ]
          },
          "metadata": {
            "tags": []
          },
          "execution_count": 5
        }
      ]
    },
    {
      "cell_type": "code",
      "metadata": {
        "execution": {
          "iopub.execute_input": "2020-11-27T14:30:00.425473Z",
          "iopub.status.busy": "2020-11-27T14:30:00.425104Z",
          "iopub.status.idle": "2020-11-27T14:30:00.428200Z",
          "shell.execute_reply": "2020-11-27T14:30:00.427797Z"
        },
        "id": "_ZaI_77fzGp4",
        "colab": {
          "base_uri": "https://localhost:8080/"
        },
        "outputId": "225f3a5c-0421-4220-ab7d-403a8aa861af"
      },
      "source": [
        "# requires_grad = True -> tracks all operations on the tensor\n",
        "x = torch.tensor(2., requires_grad=True) # first show with False, then True\n",
        "x"
      ],
      "execution_count": 6,
      "outputs": [
        {
          "output_type": "execute_result",
          "data": {
            "text/plain": [
              "tensor(2., requires_grad=True)"
            ]
          },
          "metadata": {
            "tags": []
          },
          "execution_count": 6
        }
      ]
    },
    {
      "cell_type": "code",
      "metadata": {
        "execution": {
          "iopub.execute_input": "2020-11-27T14:30:00.431055Z",
          "iopub.status.busy": "2020-11-27T14:30:00.430559Z",
          "iopub.status.idle": "2020-11-27T14:30:00.433053Z",
          "shell.execute_reply": "2020-11-27T14:30:00.432651Z"
        },
        "id": "UuaTgNYPzGp5",
        "colab": {
          "base_uri": "https://localhost:8080/"
        },
        "outputId": "751d518c-225e-46db-fadd-26724ff618b2"
      },
      "source": [
        "print(x.requires_grad)"
      ],
      "execution_count": 7,
      "outputs": [
        {
          "output_type": "stream",
          "text": [
            "True\n"
          ],
          "name": "stdout"
        }
      ]
    },
    {
      "cell_type": "code",
      "metadata": {
        "execution": {
          "iopub.execute_input": "2020-11-27T14:30:00.435878Z",
          "iopub.status.busy": "2020-11-27T14:30:00.435424Z",
          "iopub.status.idle": "2020-11-27T14:30:00.437829Z",
          "shell.execute_reply": "2020-11-27T14:30:00.437427Z"
        },
        "id": "zAqbGyPkzGp5",
        "colab": {
          "base_uri": "https://localhost:8080/"
        },
        "outputId": "585d387b-b08f-45be-a6e9-a4c25f8591f3"
      },
      "source": [
        "print(x.grad)"
      ],
      "execution_count": 8,
      "outputs": [
        {
          "output_type": "stream",
          "text": [
            "None\n"
          ],
          "name": "stdout"
        }
      ]
    },
    {
      "cell_type": "code",
      "metadata": {
        "execution": {
          "iopub.execute_input": "2020-11-27T14:30:00.440932Z",
          "iopub.status.busy": "2020-11-27T14:30:00.440436Z",
          "iopub.status.idle": "2020-11-27T14:30:00.442608Z",
          "shell.execute_reply": "2020-11-27T14:30:00.442946Z"
        },
        "id": "2yQhUhmSzGp5",
        "colab": {
          "base_uri": "https://localhost:8080/"
        },
        "outputId": "7f59c7d6-3e06-4d24-d073-4603d9220aa4"
      },
      "source": [
        "y = x ** 2\n",
        "\n",
        "print(\"Grad of x:\", x.grad)"
      ],
      "execution_count": 9,
      "outputs": [
        {
          "output_type": "stream",
          "text": [
            "Grad of x: None\n"
          ],
          "name": "stdout"
        }
      ]
    },
    {
      "cell_type": "code",
      "metadata": {
        "colab": {
          "base_uri": "https://localhost:8080/"
        },
        "id": "JwPxnxQAx382",
        "outputId": "e376b521-8c30-4ee2-f555-f31d2fdd337b"
      },
      "source": [
        "# y was created as a result of an operation, so it has a grad_fn attribute.\n",
        "# grad_fn: references a Function that has created the Tensor\n",
        "y"
      ],
      "execution_count": 10,
      "outputs": [
        {
          "output_type": "execute_result",
          "data": {
            "text/plain": [
              "tensor(4., grad_fn=<PowBackward0>)"
            ]
          },
          "metadata": {
            "tags": []
          },
          "execution_count": 10
        }
      ]
    },
    {
      "cell_type": "code",
      "metadata": {
        "execution": {
          "iopub.execute_input": "2020-11-27T14:30:00.445966Z",
          "iopub.status.busy": "2020-11-27T14:30:00.445404Z",
          "iopub.status.idle": "2020-11-27T14:30:00.448552Z",
          "shell.execute_reply": "2020-11-27T14:30:00.448152Z"
        },
        "id": "CSD4BZlkzGp6",
        "colab": {
          "base_uri": "https://localhost:8080/"
        },
        "outputId": "f347541f-2552-4dc4-a8bb-823ee1ca1384"
      },
      "source": [
        "# Let's compute the gradients with backpropagation\n",
        "# When we finish our computation we can call .backward() and have all the gradients computed automatically.\n",
        "# The gradient for this tensor will be accumulated into .grad attribute.\n",
        "# It is the partial derivate of the function w.r.t. the tensor\n",
        "\n",
        "y = x ** 2\n",
        "y.backward()\n",
        "\n",
        "print(\"Grad of x:\", x.grad)"
      ],
      "execution_count": 11,
      "outputs": [
        {
          "output_type": "stream",
          "text": [
            "Grad of x: tensor(4.)\n"
          ],
          "name": "stdout"
        }
      ]
    },
    {
      "cell_type": "code",
      "metadata": {
        "execution": {
          "iopub.execute_input": "2020-11-27T14:30:00.450955Z",
          "iopub.status.busy": "2020-11-27T14:30:00.450552Z",
          "iopub.status.idle": "2020-11-27T14:30:00.452588Z",
          "shell.execute_reply": "2020-11-27T14:30:00.452191Z"
        },
        "id": "utAYxwDLzGp6"
      },
      "source": [
        "# What is going to happen here?\n",
        "# x = torch.tensor(2.)\n",
        "# x.backward()"
      ],
      "execution_count": 12,
      "outputs": []
    },
    {
      "cell_type": "code",
      "metadata": {
        "execution": {
          "iopub.execute_input": "2020-11-27T14:30:00.455926Z",
          "iopub.status.busy": "2020-11-27T14:30:00.455467Z",
          "iopub.status.idle": "2020-11-27T14:30:00.457873Z",
          "shell.execute_reply": "2020-11-27T14:30:00.457473Z"
        },
        "id": "FFFWadOtzGp7",
        "colab": {
          "base_uri": "https://localhost:8080/"
        },
        "outputId": "59e588a8-08b9-4c65-b4d2-727dba0bf22e"
      },
      "source": [
        "# Don't record the gradient - useful for inference\n",
        "\n",
        "# Stop a tensor from tracking history:\n",
        "# For example during our training loop when we want to update our weights\n",
        "# then this update operation should not be part of the gradient computation\n",
        "# - x.requires_grad_(False)\n",
        "# - x.detach()\n",
        "# - wrap in 'with torch.no_grad():'\n",
        "\n",
        "# .requires_grad_(...) changes an existing flag in-place.\n",
        "\n",
        "params = torch.tensor(2., requires_grad=True)\n",
        "\n",
        "with torch.no_grad():\n",
        "    y = x * x\n",
        "    print(x.grad_fn)"
      ],
      "execution_count": 13,
      "outputs": [
        {
          "output_type": "stream",
          "text": [
            "None\n"
          ],
          "name": "stdout"
        }
      ]
    },
    {
      "cell_type": "markdown",
      "metadata": {
        "id": "4YcrDmlWZyLx"
      },
      "source": [
        "## Gradient with intermediate tensor"
      ]
    },
    {
      "cell_type": "code",
      "metadata": {
        "id": "bt-6H6YfY129"
      },
      "source": [
        "a = torch.tensor(2., requires_grad=True)"
      ],
      "execution_count": 14,
      "outputs": []
    },
    {
      "cell_type": "code",
      "metadata": {
        "id": "2ASg6wLoaPAc"
      },
      "source": [
        "b, c = a**2, a**3"
      ],
      "execution_count": 15,
      "outputs": []
    },
    {
      "cell_type": "code",
      "metadata": {
        "id": "hmNBvDewaPDW"
      },
      "source": [
        "d = b + c"
      ],
      "execution_count": 16,
      "outputs": []
    },
    {
      "cell_type": "code",
      "metadata": {
        "id": "n13wQQUyaPF-"
      },
      "source": [
        "d.backward() # b.backward() and c.backward() also work"
      ],
      "execution_count": 17,
      "outputs": []
    },
    {
      "cell_type": "code",
      "metadata": {
        "id": "GHEDeDZMaPIk",
        "outputId": "ff4dc982-07e8-4f03-a849-77e1c75cdd94",
        "colab": {
          "base_uri": "https://localhost:8080/"
        }
      },
      "source": [
        "a.grad # b.grad() and c.grad() not possible"
      ],
      "execution_count": 18,
      "outputs": [
        {
          "output_type": "execute_result",
          "data": {
            "text/plain": [
              "tensor(16.)"
            ]
          },
          "metadata": {
            "tags": []
          },
          "execution_count": 18
        }
      ]
    },
    {
      "cell_type": "code",
      "metadata": {
        "id": "asUAOzL7a7gc"
      },
      "source": [
        "a = torch.tensor(2., requires_grad=True)\n",
        "\n",
        "b, c = a**2, a**3\n",
        "d = b + c"
      ],
      "execution_count": 19,
      "outputs": []
    },
    {
      "cell_type": "code",
      "metadata": {
        "id": "E6gKsduId72r"
      },
      "source": [
        "handle = b.register_hook(print) # prints the gradient with respect to the tensor"
      ],
      "execution_count": 20,
      "outputs": []
    },
    {
      "cell_type": "code",
      "metadata": {
        "id": "UsCMAJAed75l",
        "outputId": "9c7e4ad8-ad2b-4d56-a7a2-cf0dab8f90f3",
        "colab": {
          "base_uri": "https://localhost:8080/"
        }
      },
      "source": [
        "d.backward() # gradient of d w.r.t. b is printed as output"
      ],
      "execution_count": 21,
      "outputs": [
        {
          "output_type": "stream",
          "text": [
            "tensor(1.)\n"
          ],
          "name": "stdout"
        }
      ]
    },
    {
      "cell_type": "code",
      "metadata": {
        "id": "PSkXTIp_d8m7",
        "outputId": "fbaa8d3e-2194-4919-ed8e-a6c0426a62e8",
        "colab": {
          "base_uri": "https://localhost:8080/"
        }
      },
      "source": [
        "handle"
      ],
      "execution_count": 22,
      "outputs": [
        {
          "output_type": "execute_result",
          "data": {
            "text/plain": [
              "<torch.utils.hooks.RemovableHandle at 0x7f41ae12a610>"
            ]
          },
          "metadata": {
            "tags": []
          },
          "execution_count": 22
        }
      ]
    },
    {
      "cell_type": "code",
      "metadata": {
        "id": "QGnsl9tJggdi",
        "outputId": "14f87733-7366-487d-8eb5-e388d3a39409",
        "colab": {
          "base_uri": "https://localhost:8080/"
        }
      },
      "source": [
        "a.grad"
      ],
      "execution_count": 23,
      "outputs": [
        {
          "output_type": "execute_result",
          "data": {
            "text/plain": [
              "tensor(16.)"
            ]
          },
          "metadata": {
            "tags": []
          },
          "execution_count": 23
        }
      ]
    },
    {
      "cell_type": "markdown",
      "metadata": {
        "id": "L64g14djZYQW"
      },
      "source": [
        "## Non-scalar output"
      ]
    },
    {
      "cell_type": "code",
      "metadata": {
        "id": "ejdyZHgvyWYy"
      },
      "source": [
        "# Model with non-scalar output:\n",
        "# If a Tensor is non-scalar (more than 1 elements), we need to specify arguments for backward() \n",
        "# specify a gradient argument that is a tensor of matching shape.\n",
        "# needed for vector-Jacobian product\n",
        "\n",
        "torch.manual_seed(0)\n",
        "\n",
        "x = torch.randn(3, requires_grad=True)"
      ],
      "execution_count": 24,
      "outputs": []
    },
    {
      "cell_type": "code",
      "metadata": {
        "id": "OPp_HNTMTCAa",
        "outputId": "edf30741-07e9-4d51-dcf1-ecca9c4527b0",
        "colab": {
          "base_uri": "https://localhost:8080/"
        }
      },
      "source": [
        "x"
      ],
      "execution_count": 25,
      "outputs": [
        {
          "output_type": "execute_result",
          "data": {
            "text/plain": [
              "tensor([ 1.5410, -0.2934, -2.1788], requires_grad=True)"
            ]
          },
          "metadata": {
            "tags": []
          },
          "execution_count": 25
        }
      ]
    },
    {
      "cell_type": "code",
      "metadata": {
        "id": "RiEGzv55yeKE"
      },
      "source": [
        "y = x*2"
      ],
      "execution_count": 26,
      "outputs": []
    },
    {
      "cell_type": "code",
      "metadata": {
        "colab": {
          "base_uri": "https://localhost:8080/"
        },
        "id": "iTgVYFNyygv5",
        "outputId": "28197f20-47ce-4626-8741-9e66b2436ff2"
      },
      "source": [
        "y"
      ],
      "execution_count": 27,
      "outputs": [
        {
          "output_type": "execute_result",
          "data": {
            "text/plain": [
              "tensor([ 3.0820, -0.5869, -4.3576], grad_fn=<MulBackward0>)"
            ]
          },
          "metadata": {
            "tags": []
          },
          "execution_count": 27
        }
      ]
    },
    {
      "cell_type": "code",
      "metadata": {
        "id": "iiM3ICqdyipT"
      },
      "source": [
        "for _ in range(5):\n",
        "    y = y * 2"
      ],
      "execution_count": 28,
      "outputs": []
    },
    {
      "cell_type": "code",
      "metadata": {
        "colab": {
          "base_uri": "https://localhost:8080/"
        },
        "id": "UTumFcMHyl_E",
        "outputId": "a9d956ff-8ba6-4a85-e6b9-86136a037c86"
      },
      "source": [
        "y"
      ],
      "execution_count": 29,
      "outputs": [
        {
          "output_type": "execute_result",
          "data": {
            "text/plain": [
              "tensor([  98.6237,  -18.7794, -139.4425], grad_fn=<MulBackward0>)"
            ]
          },
          "metadata": {
            "tags": []
          },
          "execution_count": 29
        }
      ]
    },
    {
      "cell_type": "code",
      "metadata": {
        "colab": {
          "base_uri": "https://localhost:8080/"
        },
        "id": "_64fnlw2yonA",
        "outputId": "1f95b2a2-fda1-437c-972e-16e88fdfd5cb"
      },
      "source": [
        "v = torch.tensor([0.1, 1.0, 0.0001], dtype=torch.float32)\n",
        "\n",
        "y.backward(v)\n",
        "\n",
        "print(x.grad)"
      ],
      "execution_count": 30,
      "outputs": [
        {
          "output_type": "stream",
          "text": [
            "tensor([6.4000e+00, 6.4000e+01, 6.4000e-03])\n"
          ],
          "name": "stdout"
        }
      ]
    },
    {
      "cell_type": "markdown",
      "metadata": {
        "id": "gx1IOgNuZF71"
      },
      "source": [
        "### scalar leaf tensor"
      ]
    },
    {
      "cell_type": "code",
      "metadata": {
        "id": "Ucxp8EjAUH6U"
      },
      "source": [
        "a = torch.tensor(2., requires_grad=True)"
      ],
      "execution_count": 31,
      "outputs": []
    },
    {
      "cell_type": "code",
      "metadata": {
        "id": "SjJOggbnUSZi"
      },
      "source": [
        "b = torch.tensor([1., 2., 3.], requires_grad=True)"
      ],
      "execution_count": 32,
      "outputs": []
    },
    {
      "cell_type": "code",
      "metadata": {
        "id": "w6Q5bIriUSca"
      },
      "source": [
        "c = a*b"
      ],
      "execution_count": 33,
      "outputs": []
    },
    {
      "cell_type": "code",
      "metadata": {
        "id": "oDgqS_4sUSe9"
      },
      "source": [
        "c.backward(torch.tensor([2., 2., 2.]))"
      ],
      "execution_count": 34,
      "outputs": []
    },
    {
      "cell_type": "code",
      "metadata": {
        "id": "0PhLUUkUXz-H",
        "outputId": "15476df7-1d82-413d-d549-8ab84552e6de",
        "colab": {
          "base_uri": "https://localhost:8080/"
        }
      },
      "source": [
        "a.grad # jacobian only has a row --> row vector * column vector"
      ],
      "execution_count": 35,
      "outputs": [
        {
          "output_type": "execute_result",
          "data": {
            "text/plain": [
              "tensor(12.)"
            ]
          },
          "metadata": {
            "tags": []
          },
          "execution_count": 35
        }
      ]
    },
    {
      "cell_type": "code",
      "metadata": {
        "id": "k3jlwvq9X4YR",
        "outputId": "87b53bf4-930a-4d19-8af5-d813d3dcc86b",
        "colab": {
          "base_uri": "https://localhost:8080/"
        }
      },
      "source": [
        "b.grad # jacobian is a matrix"
      ],
      "execution_count": 36,
      "outputs": [
        {
          "output_type": "execute_result",
          "data": {
            "text/plain": [
              "tensor([4., 4., 4.])"
            ]
          },
          "metadata": {
            "tags": []
          },
          "execution_count": 36
        }
      ]
    },
    {
      "cell_type": "markdown",
      "metadata": {
        "id": "KpPfdYVczGp8"
      },
      "source": [
        "`nn.Module` and `nn.Parameter` keep track of gradients for you."
      ]
    },
    {
      "cell_type": "markdown",
      "metadata": {
        "id": "GC1duA1zzGqA"
      },
      "source": [
        "## `torch.nn`\n",
        "The neural network modules contains many different layers."
      ]
    },
    {
      "cell_type": "code",
      "metadata": {
        "execution": {
          "iopub.execute_input": "2020-11-27T14:30:00.461110Z",
          "iopub.status.busy": "2020-11-27T14:30:00.460615Z",
          "iopub.status.idle": "2020-11-27T14:30:00.463220Z",
          "shell.execute_reply": "2020-11-27T14:30:00.463548Z"
        },
        "id": "d7p6X8mIzGp8",
        "colab": {
          "base_uri": "https://localhost:8080/"
        },
        "outputId": "6724ac21-2dae-4879-d08f-7941170f42b2"
      },
      "source": [
        "lin = nn.Linear(2, 1, bias=True)\n",
        "lin.weight"
      ],
      "execution_count": 37,
      "outputs": [
        {
          "output_type": "execute_result",
          "data": {
            "text/plain": [
              "Parameter containing:\n",
              "tensor([[-0.0628,  0.1871]], requires_grad=True)"
            ]
          },
          "metadata": {
            "tags": []
          },
          "execution_count": 37
        }
      ]
    },
    {
      "cell_type": "code",
      "metadata": {
        "execution": {
          "iopub.execute_input": "2020-11-27T14:30:00.466457Z",
          "iopub.status.busy": "2020-11-27T14:30:00.465919Z",
          "iopub.status.idle": "2020-11-27T14:30:00.468095Z",
          "shell.execute_reply": "2020-11-27T14:30:00.468422Z"
        },
        "id": "iJpmxLouzGp9",
        "colab": {
          "base_uri": "https://localhost:8080/"
        },
        "outputId": "d20a65c0-9140-4819-a1ad-668a9d9ea666"
      },
      "source": [
        "type(lin.weight)"
      ],
      "execution_count": 38,
      "outputs": [
        {
          "output_type": "execute_result",
          "data": {
            "text/plain": [
              "torch.nn.parameter.Parameter"
            ]
          },
          "metadata": {
            "tags": []
          },
          "execution_count": 38
        }
      ]
    },
    {
      "cell_type": "code",
      "metadata": {
        "execution": {
          "iopub.execute_input": "2020-11-27T14:30:00.471392Z",
          "iopub.status.busy": "2020-11-27T14:30:00.470854Z",
          "iopub.status.idle": "2020-11-27T14:30:00.473012Z",
          "shell.execute_reply": "2020-11-27T14:30:00.473337Z"
        },
        "id": "BiwYlTE6zGp-",
        "colab": {
          "base_uri": "https://localhost:8080/"
        },
        "outputId": "3c830e30-79cf-416c-dece-3d74dcf36de2"
      },
      "source": [
        "isinstance(lin.weight, torch.FloatTensor)"
      ],
      "execution_count": 39,
      "outputs": [
        {
          "output_type": "execute_result",
          "data": {
            "text/plain": [
              "True"
            ]
          },
          "metadata": {
            "tags": []
          },
          "execution_count": 39
        }
      ]
    },
    {
      "cell_type": "code",
      "metadata": {
        "execution": {
          "iopub.execute_input": "2020-11-27T14:30:00.480846Z",
          "iopub.status.busy": "2020-11-27T14:30:00.480310Z",
          "iopub.status.idle": "2020-11-27T14:30:00.482495Z",
          "shell.execute_reply": "2020-11-27T14:30:00.482801Z"
        },
        "id": "xUqVYu2dzGqE",
        "colab": {
          "base_uri": "https://localhost:8080/"
        },
        "outputId": "a032ab6c-401a-4b68-8360-ee66ee11c14d"
      },
      "source": [
        "lin_reg = nn.Linear(1, 1, bias=True)\n",
        "lin_reg"
      ],
      "execution_count": 40,
      "outputs": [
        {
          "output_type": "execute_result",
          "data": {
            "text/plain": [
              "Linear(in_features=1, out_features=1, bias=True)"
            ]
          },
          "metadata": {
            "tags": []
          },
          "execution_count": 40
        }
      ]
    },
    {
      "cell_type": "code",
      "metadata": {
        "execution": {
          "iopub.execute_input": "2020-11-27T14:30:00.485645Z",
          "iopub.status.busy": "2020-11-27T14:30:00.485113Z",
          "iopub.status.idle": "2020-11-27T14:30:00.487277Z",
          "shell.execute_reply": "2020-11-27T14:30:00.487600Z"
        },
        "id": "5Y5sr6LQzGqF",
        "colab": {
          "base_uri": "https://localhost:8080/"
        },
        "outputId": "4ff24cdd-d2a4-495d-ed2e-2ca7db48f80c"
      },
      "source": [
        "nn.Conv2d"
      ],
      "execution_count": 41,
      "outputs": [
        {
          "output_type": "execute_result",
          "data": {
            "text/plain": [
              "torch.nn.modules.conv.Conv2d"
            ]
          },
          "metadata": {
            "tags": []
          },
          "execution_count": 41
        }
      ]
    },
    {
      "cell_type": "code",
      "metadata": {
        "execution": {
          "iopub.execute_input": "2020-11-27T14:30:00.490470Z",
          "iopub.status.busy": "2020-11-27T14:30:00.489935Z",
          "iopub.status.idle": "2020-11-27T14:30:00.492595Z",
          "shell.execute_reply": "2020-11-27T14:30:00.492194Z"
        },
        "id": "QWOHTQY4zGqF",
        "colab": {
          "base_uri": "https://localhost:8080/"
        },
        "outputId": "1d28ce14-bbe6-44b1-b346-a846fb501c7b"
      },
      "source": [
        "nn.Conv3d"
      ],
      "execution_count": 42,
      "outputs": [
        {
          "output_type": "execute_result",
          "data": {
            "text/plain": [
              "torch.nn.modules.conv.Conv3d"
            ]
          },
          "metadata": {
            "tags": []
          },
          "execution_count": 42
        }
      ]
    },
    {
      "cell_type": "code",
      "metadata": {
        "execution": {
          "iopub.execute_input": "2020-11-27T14:30:00.495476Z",
          "iopub.status.busy": "2020-11-27T14:30:00.494941Z",
          "iopub.status.idle": "2020-11-27T14:30:00.497272Z",
          "shell.execute_reply": "2020-11-27T14:30:00.497581Z"
        },
        "id": "mAOacq5NzGqG",
        "colab": {
          "base_uri": "https://localhost:8080/"
        },
        "outputId": "817dc444-f360-4d36-dfee-088a878a3c3c"
      },
      "source": [
        "nn.BatchNorm2d"
      ],
      "execution_count": 43,
      "outputs": [
        {
          "output_type": "execute_result",
          "data": {
            "text/plain": [
              "torch.nn.modules.batchnorm.BatchNorm2d"
            ]
          },
          "metadata": {
            "tags": []
          },
          "execution_count": 43
        }
      ]
    },
    {
      "cell_type": "markdown",
      "metadata": {
        "id": "i62h00OxzGqG"
      },
      "source": [
        "### Activations"
      ]
    },
    {
      "cell_type": "code",
      "metadata": {
        "execution": {
          "iopub.execute_input": "2020-11-27T14:30:00.500353Z",
          "iopub.status.busy": "2020-11-27T14:30:00.499871Z",
          "iopub.status.idle": "2020-11-27T14:30:00.501961Z",
          "shell.execute_reply": "2020-11-27T14:30:00.502252Z"
        },
        "id": "jwynpXoMzGqG",
        "colab": {
          "base_uri": "https://localhost:8080/"
        },
        "outputId": "68f4216d-b8f1-4dc2-c54c-3edeb4f267bd"
      },
      "source": [
        "nn.ReLU"
      ],
      "execution_count": 44,
      "outputs": [
        {
          "output_type": "execute_result",
          "data": {
            "text/plain": [
              "torch.nn.modules.activation.ReLU"
            ]
          },
          "metadata": {
            "tags": []
          },
          "execution_count": 44
        }
      ]
    },
    {
      "cell_type": "code",
      "metadata": {
        "execution": {
          "iopub.execute_input": "2020-11-27T14:30:00.505300Z",
          "iopub.status.busy": "2020-11-27T14:30:00.504477Z",
          "iopub.status.idle": "2020-11-27T14:30:00.507796Z",
          "shell.execute_reply": "2020-11-27T14:30:00.507411Z"
        },
        "id": "jmZsjL5BzGqG",
        "colab": {
          "base_uri": "https://localhost:8080/"
        },
        "outputId": "722e3eca-2073-4be6-ec5c-3604e0ef7755"
      },
      "source": [
        "nn.Sigmoid"
      ],
      "execution_count": 45,
      "outputs": [
        {
          "output_type": "execute_result",
          "data": {
            "text/plain": [
              "torch.nn.modules.activation.Sigmoid"
            ]
          },
          "metadata": {
            "tags": []
          },
          "execution_count": 45
        }
      ]
    },
    {
      "cell_type": "markdown",
      "metadata": {
        "id": "HVoe-VxRzGqH"
      },
      "source": [
        "### Losses"
      ]
    },
    {
      "cell_type": "code",
      "metadata": {
        "execution": {
          "iopub.execute_input": "2020-11-27T14:30:00.510555Z",
          "iopub.status.busy": "2020-11-27T14:30:00.510049Z",
          "iopub.status.idle": "2020-11-27T14:30:00.512727Z",
          "shell.execute_reply": "2020-11-27T14:30:00.512338Z"
        },
        "id": "Vk9g-Xb5zGqH",
        "colab": {
          "base_uri": "https://localhost:8080/"
        },
        "outputId": "910098b6-0c98-4de4-dd53-4d47f56191d0"
      },
      "source": [
        "nn.Softmax"
      ],
      "execution_count": 46,
      "outputs": [
        {
          "output_type": "execute_result",
          "data": {
            "text/plain": [
              "torch.nn.modules.activation.Softmax"
            ]
          },
          "metadata": {
            "tags": []
          },
          "execution_count": 46
        }
      ]
    },
    {
      "cell_type": "code",
      "metadata": {
        "execution": {
          "iopub.execute_input": "2020-11-27T14:30:00.515550Z",
          "iopub.status.busy": "2020-11-27T14:30:00.514975Z",
          "iopub.status.idle": "2020-11-27T14:30:00.518208Z",
          "shell.execute_reply": "2020-11-27T14:30:00.517831Z"
        },
        "id": "w8tt1i3gzGqH",
        "colab": {
          "base_uri": "https://localhost:8080/"
        },
        "outputId": "0866c452-af27-41d5-cb70-55874bda18e3"
      },
      "source": [
        "nn.CrossEntropyLoss"
      ],
      "execution_count": 47,
      "outputs": [
        {
          "output_type": "execute_result",
          "data": {
            "text/plain": [
              "torch.nn.modules.loss.CrossEntropyLoss"
            ]
          },
          "metadata": {
            "tags": []
          },
          "execution_count": 47
        }
      ]
    },
    {
      "cell_type": "code",
      "metadata": {
        "execution": {
          "iopub.execute_input": "2020-11-27T14:30:00.521352Z",
          "iopub.status.busy": "2020-11-27T14:30:00.520650Z",
          "iopub.status.idle": "2020-11-27T14:30:00.522777Z",
          "shell.execute_reply": "2020-11-27T14:30:00.523111Z"
        },
        "id": "-OUMXyGhzGqI",
        "colab": {
          "base_uri": "https://localhost:8080/"
        },
        "outputId": "945a91f9-1c98-46d3-e3b9-f526d1af30ad"
      },
      "source": [
        "nn.BCELoss"
      ],
      "execution_count": 48,
      "outputs": [
        {
          "output_type": "execute_result",
          "data": {
            "text/plain": [
              "torch.nn.modules.loss.BCELoss"
            ]
          },
          "metadata": {
            "tags": []
          },
          "execution_count": 48
        }
      ]
    },
    {
      "cell_type": "code",
      "metadata": {
        "execution": {
          "iopub.execute_input": "2020-11-27T14:30:00.525577Z",
          "iopub.status.busy": "2020-11-27T14:30:00.525078Z",
          "iopub.status.idle": "2020-11-27T14:30:00.527201Z",
          "shell.execute_reply": "2020-11-27T14:30:00.527540Z"
        },
        "id": "-wguNjQDzGqI",
        "colab": {
          "base_uri": "https://localhost:8080/"
        },
        "outputId": "6a675385-5adc-42f3-f3a7-02d7975d0c08"
      },
      "source": [
        "nn.MSELoss"
      ],
      "execution_count": 49,
      "outputs": [
        {
          "output_type": "execute_result",
          "data": {
            "text/plain": [
              "torch.nn.modules.loss.MSELoss"
            ]
          },
          "metadata": {
            "tags": []
          },
          "execution_count": 49
        }
      ]
    },
    {
      "cell_type": "markdown",
      "metadata": {
        "id": "5h0KqcqkzGqI"
      },
      "source": [
        "### Functional (stateless) alternatives"
      ]
    },
    {
      "cell_type": "code",
      "metadata": {
        "execution": {
          "iopub.execute_input": "2020-11-27T14:30:00.535350Z",
          "iopub.status.busy": "2020-11-27T14:30:00.534785Z",
          "iopub.status.idle": "2020-11-27T14:30:00.536984Z",
          "shell.execute_reply": "2020-11-27T14:30:00.537267Z"
        },
        "id": "pp_kLn7mzGqJ",
        "colab": {
          "base_uri": "https://localhost:8080/"
        },
        "outputId": "44ae0b47-fb09-4129-f5fe-fe3445e48321"
      },
      "source": [
        "F.mse_loss"
      ],
      "execution_count": 50,
      "outputs": [
        {
          "output_type": "execute_result",
          "data": {
            "text/plain": [
              "<function torch.nn.functional.mse_loss>"
            ]
          },
          "metadata": {
            "tags": []
          },
          "execution_count": 50
        }
      ]
    },
    {
      "cell_type": "code",
      "metadata": {
        "execution": {
          "iopub.execute_input": "2020-11-27T14:30:00.540054Z",
          "iopub.status.busy": "2020-11-27T14:30:00.539484Z",
          "iopub.status.idle": "2020-11-27T14:30:00.542063Z",
          "shell.execute_reply": "2020-11-27T14:30:00.541619Z"
        },
        "id": "Z8hDM0SlzGqJ",
        "colab": {
          "base_uri": "https://localhost:8080/"
        },
        "outputId": "1649e5d1-e286-4dd2-85f5-b82d4a7515ec"
      },
      "source": [
        "F.relu"
      ],
      "execution_count": 51,
      "outputs": [
        {
          "output_type": "execute_result",
          "data": {
            "text/plain": [
              "<function torch.nn.functional.relu>"
            ]
          },
          "metadata": {
            "tags": []
          },
          "execution_count": 51
        }
      ]
    },
    {
      "cell_type": "code",
      "metadata": {
        "execution": {
          "iopub.execute_input": "2020-11-27T14:30:00.544823Z",
          "iopub.status.busy": "2020-11-27T14:30:00.544278Z",
          "iopub.status.idle": "2020-11-27T14:30:00.547247Z",
          "shell.execute_reply": "2020-11-27T14:30:00.546803Z"
        },
        "id": "1DATCyWhzGqK",
        "colab": {
          "base_uri": "https://localhost:8080/"
        },
        "outputId": "6ceb905d-5d3d-4e28-db9d-2074a84e5f23"
      },
      "source": [
        "F.relu6"
      ],
      "execution_count": 52,
      "outputs": [
        {
          "output_type": "execute_result",
          "data": {
            "text/plain": [
              "<function torch.nn.functional.relu6>"
            ]
          },
          "metadata": {
            "tags": []
          },
          "execution_count": 52
        }
      ]
    },
    {
      "cell_type": "markdown",
      "metadata": {
        "id": "29wRqJYnzGqK"
      },
      "source": [
        "## `torch.optim`"
      ]
    },
    {
      "cell_type": "code",
      "metadata": {
        "execution": {
          "iopub.execute_input": "2020-11-27T14:30:00.554126Z",
          "iopub.status.busy": "2020-11-27T14:30:00.553539Z",
          "iopub.status.idle": "2020-11-27T14:30:00.555775Z",
          "shell.execute_reply": "2020-11-27T14:30:00.556049Z"
        },
        "id": "Vrju6XQMzGqK",
        "colab": {
          "base_uri": "https://localhost:8080/"
        },
        "outputId": "c8c8e40f-be66-431f-fd1e-6e5a1b444adc"
      },
      "source": [
        "optim.SGD"
      ],
      "execution_count": 53,
      "outputs": [
        {
          "output_type": "execute_result",
          "data": {
            "text/plain": [
              "torch.optim.sgd.SGD"
            ]
          },
          "metadata": {
            "tags": []
          },
          "execution_count": 53
        }
      ]
    },
    {
      "cell_type": "code",
      "metadata": {
        "execution": {
          "iopub.execute_input": "2020-11-27T14:30:00.558935Z",
          "iopub.status.busy": "2020-11-27T14:30:00.558419Z",
          "iopub.status.idle": "2020-11-27T14:30:00.561482Z",
          "shell.execute_reply": "2020-11-27T14:30:00.561106Z"
        },
        "id": "90jWUE_-zGqL",
        "colab": {
          "base_uri": "https://localhost:8080/"
        },
        "outputId": "4750ee21-ef85-424a-cede-2f90154baf09"
      },
      "source": [
        "optim.Adam"
      ],
      "execution_count": 54,
      "outputs": [
        {
          "output_type": "execute_result",
          "data": {
            "text/plain": [
              "torch.optim.adam.Adam"
            ]
          },
          "metadata": {
            "tags": []
          },
          "execution_count": 54
        }
      ]
    },
    {
      "cell_type": "code",
      "metadata": {
        "execution": {
          "iopub.execute_input": "2020-11-27T14:30:00.564333Z",
          "iopub.status.busy": "2020-11-27T14:30:00.563977Z",
          "iopub.status.idle": "2020-11-27T14:30:00.566649Z",
          "shell.execute_reply": "2020-11-27T14:30:00.566334Z"
        },
        "id": "0meFJde6zGqL",
        "colab": {
          "base_uri": "https://localhost:8080/"
        },
        "outputId": "b31f1859-f13f-423e-9913-db1b25a866c8"
      },
      "source": [
        "optim.AdamW"
      ],
      "execution_count": 55,
      "outputs": [
        {
          "output_type": "execute_result",
          "data": {
            "text/plain": [
              "torch.optim.adamw.AdamW"
            ]
          },
          "metadata": {
            "tags": []
          },
          "execution_count": 55
        }
      ]
    }
  ]
}